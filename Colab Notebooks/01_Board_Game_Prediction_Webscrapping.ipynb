{
  "nbformat": 4,
  "nbformat_minor": 0,
  "metadata": {
    "colab": {
      "name": "01_Board Game Prediction: Webscrapping",
      "provenance": [],
      "authorship_tag": "ABX9TyPVNXSVDj3x+kk33hATT+NX",
      "include_colab_link": true
    },
    "kernelspec": {
      "name": "python3",
      "display_name": "Python 3"
    }
  },
  "cells": [
    {
      "cell_type": "markdown",
      "metadata": {
        "id": "view-in-github",
        "colab_type": "text"
      },
      "source": [
        "<a href=\"https://colab.research.google.com/github/Otobi1/Board-Game-Prediction-End-to-End/blob/master/01_Board_Game_Prediction_Webscrapping.ipynb\" target=\"_parent\"><img src=\"https://colab.research.google.com/assets/colab-badge.svg\" alt=\"Open In Colab\"/></a>"
      ]
    },
    {
      "cell_type": "code",
      "metadata": {
        "colab": {
          "base_uri": "https://localhost:8080/"
        },
        "id": "9IITE2fTkwwj",
        "outputId": "3cfc7594-10f0-49c1-a6a7-86aa58de4852"
      },
      "source": [
        "# Webscrapping \r\n",
        "\r\n",
        "# - Importing the necessary libraries \r\n",
        "\r\n",
        "import pandas as pd\r\n",
        "import numpy as np\r\n",
        "import matplotlib.pyplot as plt\r\n",
        "import seaborn as sns\r\n",
        "from bs4 import BeautifulSoup\r\n",
        "import requests\r\n",
        "\r\n",
        "print (\"Libraries successfully imported!!!\")"
      ],
      "execution_count": null,
      "outputs": [
        {
          "output_type": "stream",
          "text": [
            "Libraries successfully imported!!!\n"
          ],
          "name": "stdout"
        }
      ]
    },
    {
      "cell_type": "code",
      "metadata": {
        "id": "F_tySRfplVt8"
      },
      "source": [
        "# Getting a list of board game mechanics from Board Game Geek\r\n",
        "\r\n",
        "base_url = \"https://boardgamegeek.com/browse/boardgamemechanic\"\r\n",
        "res = requests.get(base_url)\r\n",
        "soup = BeautifulSoup(res.content)\r\n",
        "\r\n",
        "mechanic = soup.find_all(\"a\")[1:]\r\n",
        "\r\n",
        "mechanics_list = [] # making list of the mechanics\r\n",
        "\r\n",
        "for line in mechanic:\r\n",
        "  observation = line.text\r\n",
        "  mechanics_list.append(observation)\r\n",
        "\r\n",
        "mechanics_list = [i for i in mechanics_list if i] # getting rid of null values in the list\r\n"
      ],
      "execution_count": null,
      "outputs": []
    },
    {
      "cell_type": "code",
      "metadata": {
        "id": "fiH4L_6mmdt9"
      },
      "source": [
        "mechanics_df = pd.DataFrame(mechanics_list, columns = [\"mechanics\"])"
      ],
      "execution_count": null,
      "outputs": []
    },
    {
      "cell_type": "code",
      "metadata": {
        "id": "kj8vcBrfmmae"
      },
      "source": [
        "# Getting a list of offboard game categories from Board Game Geek\r\n",
        "# this will help prevent the inclusion of unique categories or junk data in the datasets\r\n",
        "\r\n",
        "base_url = \"https://boardgamegeek.com/browse/boardgamecategory\"\r\n",
        "res = requests.get(base_url)\r\n",
        "soup = BeautifulSoup(res.content)\r\n",
        "category = soup.find_all(\"a\")[1:]\r\n",
        "\r\n",
        "categories_list = [] # making a list of categories from the website\r\n",
        "for line in category:\r\n",
        "  observation = line.text\r\n",
        "  categories_list.append(observation)\r\n",
        "\r\n",
        "categories_list = [i for i in categories_list if i] # Geeting rid of nul values in the list"
      ],
      "execution_count": null,
      "outputs": []
    },
    {
      "cell_type": "code",
      "metadata": {
        "id": "F2UX4Zx8nfz9"
      },
      "source": [
        "categories_df = pd.DataFrame(categories_list, columns = [\"categories\"])"
      ],
      "execution_count": null,
      "outputs": []
    },
    {
      "cell_type": "code",
      "metadata": {
        "colab": {
          "base_uri": "https://localhost:8080/"
        },
        "id": "sRd1gNvSoolL",
        "outputId": "046d4d70-1e10-4ed7-8479-39a641cc7fd7"
      },
      "source": [
        "from google.colab import drive # for more on writing and reading files through colab https://towardsdatascience.com/reading-and-writing-files-with-google-colaboratory-f0c234683946\r\n",
        "drive.mount(\"/drive\")"
      ],
      "execution_count": null,
      "outputs": [
        {
          "output_type": "stream",
          "text": [
            "Drive already mounted at /drive; to attempt to forcibly remount, call drive.mount(\"/drive\", force_remount=True).\n"
          ],
          "name": "stdout"
        }
      ]
    },
    {
      "cell_type": "code",
      "metadata": {
        "id": "SRFhjHjsnuwM"
      },
      "source": [
        "mechanics_df.to_csv(\"/drive/My Drive/Colab Notebooks/mechanics.csv\") \r\n",
        "categories_df.to_csv(\"/drive/My Drive/Colab Notebooks/categories.csv\")"
      ],
      "execution_count": null,
      "outputs": []
    },
    {
      "cell_type": "code",
      "metadata": {
        "id": "lam6ak0pn9cm"
      },
      "source": [
        ""
      ],
      "execution_count": null,
      "outputs": []
    }
  ]
}