{
  "nbformat": 4,
  "nbformat_minor": 0,
  "metadata": {
    "colab": {
      "name": "04_Board Game Prediction: Production Model",
      "provenance": [],
      "authorship_tag": "ABX9TyNYl3TUw9q2V+wT7AxSgfHv",
      "include_colab_link": true
    },
    "kernelspec": {
      "name": "python3",
      "display_name": "Python 3"
    }
  },
  "cells": [
    {
      "cell_type": "markdown",
      "metadata": {
        "id": "view-in-github",
        "colab_type": "text"
      },
      "source": [
        "<a href=\"https://colab.research.google.com/github/Otobi1/Board-Game-Prediction-End-to-End/blob/master/04_Board_Game_Prediction_Production_Model.ipynb\" target=\"_parent\"><img src=\"https://colab.research.google.com/assets/colab-badge.svg\" alt=\"Open In Colab\"/></a>"
      ]
    },
    {
      "cell_type": "code",
      "metadata": {
        "id": "Nb6-vLPrX-VO"
      },
      "source": [
        "# Import the necessary libraries\r\n",
        "\r\n",
        "import pandas as pd\r\n",
        "import numpy as np\r\n",
        "import seaborn as sns\r\n",
        "import matplotlib.pyplot as plt\r\n",
        "from sklearn.pipeline import Pipeline\r\n",
        "from sklearn.model_selection import cross_val_score, train_test_split, GridSearchCV\r\n",
        "from sklearn.linear_model import LogisticRegression\r\n",
        "from sklearn.naive_bayes import MultinomialNB, GaussianNB\r\n",
        "from sklearn.neighbors import KNeighborsClassifier\r\n",
        "from sklearn.svm import SVC\r\n",
        "from sklearn.ensemble import BaggingClassifier, RandomForestClassifier, ExtraTreesClassifier\r\n",
        "from sklearn.ensemble import GradientBoostingClassifier, AdaBoostClassifier, VotingClassifier\r\n",
        "from sklearn.tree import DecisionTreeClassifier\r\n",
        "from sklearn.metrics import confusion_matrix\r\n",
        "from sklearn.preprocessing import StandardScaler, MinMaxScaler, PolynomialFeatures, LabelBinarizer\r\n",
        "from sklearn.metrics import confusion_matrix\r\n",
        "import pickle\r\n",
        "\r\n",
        "\r\n",
        "import warnings\r\n",
        "warnings.filterwarnings('ignore')"
      ],
      "execution_count": 10,
      "outputs": []
    },
    {
      "cell_type": "code",
      "metadata": {
        "colab": {
          "base_uri": "https://localhost:8080/"
        },
        "id": "4J2hwU6LX_Ue",
        "outputId": "d8498721-d22d-4596-820d-fd8b6fcbb17c"
      },
      "source": [
        "# Mount the drive, because the data is already on the GDrive\r\n",
        "\r\n",
        "from google.colab import drive # for more on writing and reading files through colab https://towardsdatascience.com/reading-and-writing-files-with-google-colaboratory-f0c234683946\r\n",
        "drive.mount(\"/drive\") "
      ],
      "execution_count": 11,
      "outputs": [
        {
          "output_type": "stream",
          "text": [
            "Drive already mounted at /drive; to attempt to forcibly remount, call drive.mount(\"/drive\", force_remount=True).\n"
          ],
          "name": "stdout"
        }
      ]
    },
    {
      "cell_type": "code",
      "metadata": {
        "id": "ETS1VWfMYBlk"
      },
      "source": [
        "# Loading the dataset from the GDrive\r\n",
        "\r\n",
        "df = pd.read_csv(\"/drive/My Drive/Colab Notebooks/final_game_board_dataset.csv\")"
      ],
      "execution_count": 13,
      "outputs": []
    },
    {
      "cell_type": "code",
      "metadata": {
        "colab": {
          "base_uri": "https://localhost:8080/"
        },
        "id": "HSC651MKYMAI",
        "outputId": "462e2940-d56e-4952-9495-e6a613a9c351"
      },
      "source": [
        "# Getting the list of feature names\r\n",
        "\r\n",
        "df.keys()"
      ],
      "execution_count": 14,
      "outputs": [
        {
          "output_type": "execute_result",
          "data": {
            "text/plain": [
              "Index(['name', 'Year Published', 'Minimum Players', 'Maximum Players',\n",
              "       'Minimum Playtime', 'Maximum Playtime', 'Minimum Age',\n",
              "       'Language Dependence', 'Number of Categories', 'Number of Mechanics',\n",
              "       ...\n",
              "       'Category Transportation', 'Category Travel', 'Category Trivia',\n",
              "       'Category Video Game Theme', 'Category Vietnam War', 'Category Wargame',\n",
              "       'Category Word Game', 'Category World War I', 'Category World War II',\n",
              "       'Category Zombies'],\n",
              "      dtype='object', length=200)"
            ]
          },
          "metadata": {
            "tags": []
          },
          "execution_count": 14
        }
      ]
    },
    {
      "cell_type": "code",
      "metadata": {
        "id": "TpXb-0sLYO06"
      },
      "source": [
        "# Creating the list of least impact mechanics and categories based on the previous notebooks\r\n",
        "\r\n",
        "mech_list = [\r\n",
        "    'Mechanic Action Drafting', 'Mechanic Action Queue',\r\n",
        "    'Mechanic Action Retrieval', 'Mechanic Action Timer',\r\n",
        "    'Mechanic Action/Event', 'Mechanic Advantage Token',\r\n",
        "    'Mechanic Area Movement', 'Mechanic Area-Impulse',\r\n",
        "    'Mechanic Auction/Bidding', 'Mechanic Auction: Sealed Bid',\r\n",
        "    'Mechanic Auction: Turn Order Until Pass',\r\n",
        "    'Mechanic Automatic Resource Growth', 'Mechanic Bias', 'Mechanic Bribery',\r\n",
        "    'Mechanic Card Drafting', 'Mechanic Catch the Leader', 'Mechanic Chaining',\r\n",
        "    'Mechanic Chit-Pull System', 'Mechanic Command Cards',\r\n",
        "    'Mechanic Commodity Speculation', 'Mechanic Communication Limits',\r\n",
        "    'Mechanic Connections', 'Mechanic Critical Hits and Failures',\r\n",
        "    'Mechanic Dice Rolling', 'Mechanic Different Dice Movement',\r\n",
        "    'Mechanic Drafting', 'Mechanic Elapsed Real Time Ending',\r\n",
        "    'Mechanic Enclosure', 'Mechanic Events', 'Mechanic Flicking',\r\n",
        "    'Mechanic Follow', 'Mechanic Grid Coverage', 'Mechanic Grid Movement',\r\n",
        "    'Mechanic Hand Management', 'Mechanic Hidden Movement',\r\n",
        "    'Mechanic Hidden Roles', 'Mechanic Highest-Lowest Scoring',\r\n",
        "    'Mechanic Increase Value of Unchosen Resources', 'Mechanic Investment',\r\n",
        "    'Mechanic Legacy Game', 'Mechanic Line Drawing', 'Mechanic Mancala',\r\n",
        "    'Mechanic Market', 'Mechanic Measurement Movement',\r\n",
        "    'Mechanic Melding and Splaying', 'Mechanic Minimap Resolution',\r\n",
        "    'Mechanic Modular Board', 'Mechanic Move Through Deck',\r\n",
        "    'Mechanic Multiple Maps', 'Mechanic Negotiation', 'Mechanic Ownership',\r\n",
        "    'Mechanic Pattern Building', 'Mechanic Physical Removal',\r\n",
        "    'Mechanic Pick-up and Deliver', 'Mechanic Player Judge',\r\n",
        "    'Mechanic Point to Point Movement', 'Mechanic Race', 'Mechanic Real-Time',\r\n",
        "    'Mechanic Resource to Move', 'Mechanic Role Playing',\r\n",
        "    'Mechanic Roles with Asymmetric Information', 'Mechanic Rondel',\r\n",
        "    'Mechanic Score-and-Reset Game', 'Mechanic Secret Unit Deployment',\r\n",
        "    'Mechanic Set Collection', 'Mechanic Simulation',\r\n",
        "    'Mechanic Simultaneous Action Selection', 'Mechanic Singing',\r\n",
        "    'Mechanic Solo / Solitaire Game', 'Mechanic Square Grid',\r\n",
        "    'Mechanic Stacking and Balancing', 'Mechanic Stock Holding',\r\n",
        "    'Mechanic Take That', 'Mechanic Team-Based Game',\r\n",
        "    'Mechanic Tile Placement', 'Mechanic Time Track', 'Mechanic Trading',\r\n",
        "    'Mechanic Traitor Game', 'Mechanic Trick-taking', 'Mechanic Voting',\r\n",
        "    'Mechanic Worker Placement'\r\n",
        "]\r\n",
        "\r\n",
        "cat_list = [\r\n",
        "    'Category Abstract Strategy', 'Category Adventure',\r\n",
        "    'Category American Civil War', 'Category American Indian Wars',\r\n",
        "    'Category American West', 'Category Ancient', 'Category Animals',\r\n",
        "    'Category Arabian', 'Category Aviation / Flight', 'Category Bluffing',\r\n",
        "    'Category Book', 'Category City Building', 'Category Civil War',\r\n",
        "    'Category Collectible Components', 'Category Comic Book / Strip',\r\n",
        "    'Category Dice', 'Category Educational', 'Category Electronic',\r\n",
        "    'Category Environmental', 'Category Exploration', 'Category Fantasy',\r\n",
        "    'Category Farming', 'Category Fighting', 'Category Game System',\r\n",
        "    'Category Horror', 'Category Industry / Manufacturing', 'Category Mafia',\r\n",
        "    'Category Maze', 'Category Memory', 'Category Modern Warfare',\r\n",
        "    'Category Movies / TV / Radio theme', 'Category Music',\r\n",
        "    'Category Mythology', 'Category Nautical', 'Category Negotiation',\r\n",
        "    'Category Novel-based', 'Category Number', 'Category Pirates',\r\n",
        "    'Category Political', 'Category Post-Napoleonic', 'Category Prehistoric',\r\n",
        "    'Category Print & Play', 'Category Real-time', 'Category Religious',\r\n",
        "    'Category Science Fiction', 'Category Space Exploration',\r\n",
        "    'Category Spies/Secret Agents', 'Category Sports',\r\n",
        "    'Category Transportation', 'Category Travel', 'Category Trivia',\r\n",
        "    'Category Video Game Theme', 'Category World War I',\r\n",
        "    'Category World War II', 'Category Zombies'\r\n",
        "]"
      ],
      "execution_count": 15,
      "outputs": []
    },
    {
      "cell_type": "code",
      "metadata": {
        "id": "oGZWqHViYcIG"
      },
      "source": [
        "# Summing the less impactful mechanics into a single column\r\n",
        "\r\n",
        "df['Mechanic Other'] = df[mech_list].sum(axis = 1)"
      ],
      "execution_count": 16,
      "outputs": []
    },
    {
      "cell_type": "code",
      "metadata": {
        "colab": {
          "base_uri": "https://localhost:8080/"
        },
        "id": "p2YU1fitYfUS",
        "outputId": "4859e34c-5c4d-4d58-c415-e428d53db43a"
      },
      "source": [
        "df['Mechanic Other'].value_counts()"
      ],
      "execution_count": 17,
      "outputs": [
        {
          "output_type": "execute_result",
          "data": {
            "text/plain": [
              "1    10365\n",
              "0     8671\n",
              "Name: Mechanic Other, dtype: int64"
            ]
          },
          "metadata": {
            "tags": []
          },
          "execution_count": 17
        }
      ]
    },
    {
      "cell_type": "code",
      "metadata": {
        "id": "wWxBplJIYg31"
      },
      "source": [
        "# Summing the least impactful categories into a single column\r\n",
        "\r\n",
        "df['Category Other'] = df[cat_list].sum(axis = 1)"
      ],
      "execution_count": 18,
      "outputs": []
    },
    {
      "cell_type": "code",
      "metadata": {
        "colab": {
          "base_uri": "https://localhost:8080/"
        },
        "id": "Lsfz9cI4YjVn",
        "outputId": "657ea0d8-0246-4e38-93b4-c36e328eea54"
      },
      "source": [
        "df['Category Other'].value_counts()"
      ],
      "execution_count": 19,
      "outputs": [
        {
          "output_type": "execute_result",
          "data": {
            "text/plain": [
              "0    9646\n",
              "1    9390\n",
              "Name: Category Other, dtype: int64"
            ]
          },
          "metadata": {
            "tags": []
          },
          "execution_count": 19
        }
      ]
    },
    {
      "cell_type": "code",
      "metadata": {
        "colab": {
          "base_uri": "https://localhost:8080/"
        },
        "id": "wFs7MDpsYn-R",
        "outputId": "1b56e00f-6ddd-4c00-e0c9-01947d1f7b75"
      },
      "source": [
        "# dropping the less impactful mechanics and categories\r\n",
        "\r\n",
        "df.drop(columns = mech_list, inplace = True) \r\n",
        "df.drop(columns = cat_list, inplace = True)\r\n",
        "df.shape"
      ],
      "execution_count": 20,
      "outputs": [
        {
          "output_type": "execute_result",
          "data": {
            "text/plain": [
              "(19036, 66)"
            ]
          },
          "metadata": {
            "tags": []
          },
          "execution_count": 20
        }
      ]
    },
    {
      "cell_type": "code",
      "metadata": {
        "id": "GgjaxD8Xh45c"
      },
      "source": [
        "# converting the avgweight feature to categorical data for better modeling\r\n",
        "# using the categories found here: https://boardgamegeek.com/wiki/page/Weight\r\n",
        "\r\n",
        "conversion_dict = {1: 'light',\r\n",
        "                   2: 'medium light',\r\n",
        "                   3: 'medium',\r\n",
        "                   4: 'medium heavy',\r\n",
        "                   5: 'heavy'}"
      ],
      "execution_count": 21,
      "outputs": []
    },
    {
      "cell_type": "code",
      "metadata": {
        "id": "QIeY30SWh8DG"
      },
      "source": [
        "df['Weight'] = np.round(df['Weight']) # rounding avgweight\r\n",
        "df['Weight'] = df['Weight'].map(conversion_dict) # mapping the conversion dictionary to avgweight"
      ],
      "execution_count": 22,
      "outputs": []
    },
    {
      "cell_type": "code",
      "metadata": {
        "id": "udMCRVRQh-ZM"
      },
      "source": [
        "df.drop(columns=[\r\n",
        "    'Year Published', 'boardgamecategory', 'boardgamemechanic', 'Language Dependence',\r\n",
        "    'description', 'Number of Categories', 'Number of Mechanics'],\r\n",
        "        inplace=True)"
      ],
      "execution_count": 23,
      "outputs": []
    },
    {
      "cell_type": "code",
      "metadata": {
        "id": "Flesuy-UiDmO"
      },
      "source": [
        "df = df[[\r\n",
        "    'name', 'Minimum Players', 'Maximum Players', 'Minimum Playtime',\r\n",
        "    'Maximum Playtime', 'Minimum Age', 'Weight', 'Mechanic Acting',\r\n",
        "    'Mechanic Action Points', 'Mechanic Alliances',\r\n",
        "    'Mechanic Area Majority / Influence', 'Mechanic Betting and Bluffing',\r\n",
        "    'Mechanic Campaign / Battle Card Driven', 'Mechanic Contracts',\r\n",
        "    'Mechanic Cooperative Game', 'Mechanic Crayon Rail System',\r\n",
        "    'Mechanic End Game Bonuses', 'Mechanic Hexagon Grid', 'Mechanic Memory',\r\n",
        "    'Mechanic Network and Route Building', 'Mechanic Paper-and-Pencil',\r\n",
        "    'Mechanic Pattern Recognition', 'Mechanic Player Elimination',\r\n",
        "    'Mechanic Push Your Luck', 'Mechanic Rock-Paper-Scissors',\r\n",
        "    'Mechanic Roll / Spin and Move', 'Mechanic Storytelling',\r\n",
        "    'Mechanic Variable Phase Order', 'Mechanic Variable Player Powers',\r\n",
        "    'Mechanic Other', 'Category Action / Dexterity', 'Category Age of Reason',\r\n",
        "    'Category American Revolutionary War', 'Category Card Game',\r\n",
        "    'Category Civilization', 'Category Deduction', 'Category Economic',\r\n",
        "    'Category Expansion for Base-game', 'Category Humor',\r\n",
        "    'Category Korean War', 'Category Math', 'Category Mature / Adult',\r\n",
        "    'Category Medical', 'Category Medieval', 'Category Miniatures',\r\n",
        "    'Category Murder/Mystery', 'Category Napoleonic', 'Category Party Game',\r\n",
        "    'Category Pike and Shot', 'Category Puzzle', 'Category Racing',\r\n",
        "    'Category Renaissance', 'Category Territory Building', 'Category Trains',\r\n",
        "    'Category Vietnam War', 'Category Wargame', 'Category Word Game',\r\n",
        "    'Category Other'\r\n",
        "]]"
      ],
      "execution_count": 24,
      "outputs": []
    },
    {
      "cell_type": "code",
      "metadata": {
        "id": "Vz-CsJYiiG2q"
      },
      "source": [
        "# Splitting the dataset\r\n",
        "\r\n",
        "X = df._get_numeric_data()\r\n",
        "y = df['Weight']\r\n",
        "\r\n",
        "X_train, X_test, y_train, y_test = train_test_split(X, y, stratify = y, random_state = 1919)"
      ],
      "execution_count": 25,
      "outputs": []
    },
    {
      "cell_type": "code",
      "metadata": {
        "colab": {
          "base_uri": "https://localhost:8080/"
        },
        "id": "R7hiPoj5iJrY",
        "outputId": "a000ea5c-c53a-4c94-f9de-1e1056fbd1f6"
      },
      "source": [
        "X.keys() ###### confirm if this list tallies with the index.html"
      ],
      "execution_count": 26,
      "outputs": [
        {
          "output_type": "execute_result",
          "data": {
            "text/plain": [
              "Index(['Minimum Players', 'Maximum Players', 'Minimum Playtime',\n",
              "       'Maximum Playtime', 'Minimum Age', 'Mechanic Acting',\n",
              "       'Mechanic Action Points', 'Mechanic Alliances',\n",
              "       'Mechanic Area Majority / Influence', 'Mechanic Betting and Bluffing',\n",
              "       'Mechanic Campaign / Battle Card Driven', 'Mechanic Contracts',\n",
              "       'Mechanic Cooperative Game', 'Mechanic Crayon Rail System',\n",
              "       'Mechanic End Game Bonuses', 'Mechanic Hexagon Grid', 'Mechanic Memory',\n",
              "       'Mechanic Network and Route Building', 'Mechanic Paper-and-Pencil',\n",
              "       'Mechanic Pattern Recognition', 'Mechanic Player Elimination',\n",
              "       'Mechanic Push Your Luck', 'Mechanic Rock-Paper-Scissors',\n",
              "       'Mechanic Roll / Spin and Move', 'Mechanic Storytelling',\n",
              "       'Mechanic Variable Phase Order', 'Mechanic Variable Player Powers',\n",
              "       'Mechanic Other', 'Category Action / Dexterity',\n",
              "       'Category Age of Reason', 'Category American Revolutionary War',\n",
              "       'Category Card Game', 'Category Civilization', 'Category Deduction',\n",
              "       'Category Economic', 'Category Expansion for Base-game',\n",
              "       'Category Humor', 'Category Korean War', 'Category Math',\n",
              "       'Category Mature / Adult', 'Category Medical', 'Category Medieval',\n",
              "       'Category Miniatures', 'Category Murder/Mystery', 'Category Napoleonic',\n",
              "       'Category Party Game', 'Category Pike and Shot', 'Category Puzzle',\n",
              "       'Category Racing', 'Category Renaissance',\n",
              "       'Category Territory Building', 'Category Trains',\n",
              "       'Category Vietnam War', 'Category Wargame', 'Category Word Game',\n",
              "       'Category Other'],\n",
              "      dtype='object')"
            ]
          },
          "metadata": {
            "tags": []
          },
          "execution_count": 26
        }
      ]
    },
    {
      "cell_type": "code",
      "metadata": {
        "colab": {
          "base_uri": "https://localhost:8080/"
        },
        "id": "NwA96pBYiMI9",
        "outputId": "57e9e434-9b2d-43fa-c2d1-caf70462c577"
      },
      "source": [
        "y.value_counts(normalize = True)"
      ],
      "execution_count": 27,
      "outputs": [
        {
          "output_type": "execute_result",
          "data": {
            "text/plain": [
              "medium light    0.441007\n",
              "light           0.299170\n",
              "medium          0.204245\n",
              "medium heavy    0.053215\n",
              "heavy           0.002364\n",
              "Name: Weight, dtype: float64"
            ]
          },
          "metadata": {
            "tags": []
          },
          "execution_count": 27
        }
      ]
    },
    {
      "cell_type": "code",
      "metadata": {
        "colab": {
          "base_uri": "https://localhost:8080/"
        },
        "id": "fhc1jN9gisI5",
        "outputId": "6401f984-21e8-469e-bcbb-3ee6d970ffc8"
      },
      "source": [
        "# Logistic Regression Model \r\n",
        "\r\n",
        "pipe = Pipeline(steps = [(\"lr\", LogisticRegression())]) # Running a pipeline of logistic regression \r\n",
        "\r\n",
        "params = {\"lr__penalty\": [\"l1\"], \r\n",
        "          \"lr__C\": [1], \r\n",
        "          \"lr__solver\": [\"liblinear\"]} # Setting parameters\r\n",
        "\r\n",
        "gs_lr = GridSearchCV(pipe, param_grid = params, cv = 5, scoring = \"accuracy\", n_jobs = -2)\r\n",
        "\r\n",
        "gs_lr.fit(X_train, y_train)\r\n",
        "gs_lr.best_estimator_"
      ],
      "execution_count": 28,
      "outputs": [
        {
          "output_type": "execute_result",
          "data": {
            "text/plain": [
              "Pipeline(memory=None,\n",
              "         steps=[('lr',\n",
              "                 LogisticRegression(C=1, class_weight=None, dual=False,\n",
              "                                    fit_intercept=True, intercept_scaling=1,\n",
              "                                    l1_ratio=None, max_iter=100,\n",
              "                                    multi_class='auto', n_jobs=None,\n",
              "                                    penalty='l1', random_state=None,\n",
              "                                    solver='liblinear', tol=0.0001, verbose=0,\n",
              "                                    warm_start=False))],\n",
              "         verbose=False)"
            ]
          },
          "metadata": {
            "tags": []
          },
          "execution_count": 28
        }
      ]
    },
    {
      "cell_type": "code",
      "metadata": {
        "colab": {
          "base_uri": "https://localhost:8080/"
        },
        "id": "zowmIr2ei1iU",
        "outputId": "29b00433-8544-4f48-c49d-e881453cb377"
      },
      "source": [
        "# scoring the model \r\n",
        "\r\n",
        "gs_lr.score(X_train, y_train) "
      ],
      "execution_count": 29,
      "outputs": [
        {
          "output_type": "execute_result",
          "data": {
            "text/plain": [
              "0.5862576171464593"
            ]
          },
          "metadata": {
            "tags": []
          },
          "execution_count": 29
        }
      ]
    },
    {
      "cell_type": "code",
      "metadata": {
        "colab": {
          "base_uri": "https://localhost:8080/"
        },
        "id": "WiPCP75Hi5VK",
        "outputId": "cd208098-6cfc-404c-d4ed-6aa2749fbd63"
      },
      "source": [
        "# cross validation scoring \r\n",
        "\r\n",
        "cross_val_score(gs_lr.best_estimator_, X, y, cv = 5).mean() "
      ],
      "execution_count": 30,
      "outputs": [
        {
          "output_type": "execute_result",
          "data": {
            "text/plain": [
              "0.57690669057221"
            ]
          },
          "metadata": {
            "tags": []
          },
          "execution_count": 30
        }
      ]
    },
    {
      "cell_type": "code",
      "metadata": {
        "colab": {
          "base_uri": "https://localhost:8080/"
        },
        "id": "EvnC0bj1i8xH",
        "outputId": "7ae0b4c4-9716-46ec-8b0a-0a4758db2c34"
      },
      "source": [
        "# Scoring the test data\r\n",
        "\r\n",
        "gs_lr.score(X_test, y_test)\r\n",
        "\r\n",
        "# Inference: this model already performs better than the base model but there is room for improvement"
      ],
      "execution_count": 31,
      "outputs": [
        {
          "output_type": "execute_result",
          "data": {
            "text/plain": [
              "0.5828955662954403"
            ]
          },
          "metadata": {
            "tags": []
          },
          "execution_count": 31
        }
      ]
    },
    {
      "cell_type": "code",
      "metadata": {
        "colab": {
          "base_uri": "https://localhost:8080/"
        },
        "id": "NR3-ssRdi_qH",
        "outputId": "c190e063-af71-48fb-f84a-82f9e27702ef"
      },
      "source": [
        "# KNN Model\r\n",
        "\r\n",
        "# - Setting the KNN Model with a StandardScaler\r\n",
        "\r\n",
        "pipe = Pipeline(steps = [(\"sc\", StandardScaler()), (\"knn\", KNeighborsClassifier())])\r\n",
        "\r\n",
        "# Setting Model Params \r\n",
        "\r\n",
        "params = {\"knn__n_neighbors\": [21], \"knn__p\": [1]}\r\n",
        "\r\n",
        "gs_knn = GridSearchCV(pipe, param_grid = params, cv = 5, scoring = \"accuracy\")\r\n",
        "\r\n",
        "gs_knn.fit(X_train, y_train)\r\n",
        "gs_knn.best_estimator_"
      ],
      "execution_count": 32,
      "outputs": [
        {
          "output_type": "execute_result",
          "data": {
            "text/plain": [
              "Pipeline(memory=None,\n",
              "         steps=[('sc',\n",
              "                 StandardScaler(copy=True, with_mean=True, with_std=True)),\n",
              "                ('knn',\n",
              "                 KNeighborsClassifier(algorithm='auto', leaf_size=30,\n",
              "                                      metric='minkowski', metric_params=None,\n",
              "                                      n_jobs=None, n_neighbors=21, p=1,\n",
              "                                      weights='uniform'))],\n",
              "         verbose=False)"
            ]
          },
          "metadata": {
            "tags": []
          },
          "execution_count": 32
        }
      ]
    },
    {
      "cell_type": "code",
      "metadata": {
        "colab": {
          "base_uri": "https://localhost:8080/"
        },
        "id": "byfKqBXPjCVB",
        "outputId": "69d28fed-dfff-4782-abe0-b11414412803"
      },
      "source": [
        "# Scoring the model\r\n",
        "\r\n",
        "gs_knn.score(X_train, y_train)"
      ],
      "execution_count": 33,
      "outputs": [
        {
          "output_type": "execute_result",
          "data": {
            "text/plain": [
              "0.6497863696855082"
            ]
          },
          "metadata": {
            "tags": []
          },
          "execution_count": 33
        }
      ]
    },
    {
      "cell_type": "code",
      "metadata": {
        "colab": {
          "base_uri": "https://localhost:8080/"
        },
        "id": "YRanxiQHjGnm",
        "outputId": "ee58acae-b80c-4450-c831-ae6924ce1929"
      },
      "source": [
        "# Cross validation scoring \r\n",
        "\r\n",
        "cross_val_score(gs_knn.best_estimator_, X, y, cv = 5).mean() "
      ],
      "execution_count": 34,
      "outputs": [
        {
          "output_type": "execute_result",
          "data": {
            "text/plain": [
              "0.6087393743943599"
            ]
          },
          "metadata": {
            "tags": []
          },
          "execution_count": 34
        }
      ]
    },
    {
      "cell_type": "code",
      "metadata": {
        "colab": {
          "base_uri": "https://localhost:8080/"
        },
        "id": "2m50ekw4jIpG",
        "outputId": "b0d6e6bd-d703-48a1-e068-4da6fdbe26e0"
      },
      "source": [
        "# Scoring the test data split\r\n",
        "\r\n",
        "gs_knn.score(X_test, y_test)\r\n",
        "\r\n",
        "#  Inference: this model performs almost as well as the Logistic Regression"
      ],
      "execution_count": 35,
      "outputs": [
        {
          "output_type": "execute_result",
          "data": {
            "text/plain": [
              "0.6104223576381593"
            ]
          },
          "metadata": {
            "tags": []
          },
          "execution_count": 35
        }
      ]
    },
    {
      "cell_type": "code",
      "metadata": {
        "colab": {
          "base_uri": "https://localhost:8080/"
        },
        "id": "0onbv8MWjLLX",
        "outputId": "27d43810-1445-4d1b-fbbb-e35097e6591d"
      },
      "source": [
        "# Decision Tree Model \r\n",
        "\r\n",
        "# - Setting the decision tree model\r\n",
        "\r\n",
        "pipe = Pipeline(steps = [(\"tree\", DecisionTreeClassifier())])\r\n",
        "\r\n",
        "# - Setting the model parameters \r\n",
        "\r\n",
        "params = {\"tree__max_depth\": [6, 8]}\r\n",
        "\r\n",
        "gs_tree = GridSearchCV(pipe, param_grid = params, cv = 5, scoring = \"accuracy\")\r\n",
        "\r\n",
        "gs_tree.fit(X_train, y_train)\r\n",
        "gs_tree.best_estimator_"
      ],
      "execution_count": 36,
      "outputs": [
        {
          "output_type": "execute_result",
          "data": {
            "text/plain": [
              "Pipeline(memory=None,\n",
              "         steps=[('tree',\n",
              "                 DecisionTreeClassifier(ccp_alpha=0.0, class_weight=None,\n",
              "                                        criterion='gini', max_depth=8,\n",
              "                                        max_features=None, max_leaf_nodes=None,\n",
              "                                        min_impurity_decrease=0.0,\n",
              "                                        min_impurity_split=None,\n",
              "                                        min_samples_leaf=1, min_samples_split=2,\n",
              "                                        min_weight_fraction_leaf=0.0,\n",
              "                                        presort='deprecated', random_state=None,\n",
              "                                        splitter='best'))],\n",
              "         verbose=False)"
            ]
          },
          "metadata": {
            "tags": []
          },
          "execution_count": 36
        }
      ]
    },
    {
      "cell_type": "code",
      "metadata": {
        "colab": {
          "base_uri": "https://localhost:8080/"
        },
        "id": "JgUytmj7jNk6",
        "outputId": "c1edb6b7-8c98-4d30-e0e1-0131646f64eb"
      },
      "source": [
        "# Scoring the model \r\n",
        "\r\n",
        "gs_tree.score(X_train, y_train)"
      ],
      "execution_count": 37,
      "outputs": [
        {
          "output_type": "execute_result",
          "data": {
            "text/plain": [
              "0.6662464103102893"
            ]
          },
          "metadata": {
            "tags": []
          },
          "execution_count": 37
        }
      ]
    },
    {
      "cell_type": "code",
      "metadata": {
        "colab": {
          "base_uri": "https://localhost:8080/"
        },
        "id": "Hl5YvKcSjQ4U",
        "outputId": "4a21ac3a-3597-430e-dd75-4fb93fe56107"
      },
      "source": [
        "# Cross validation score \r\n",
        "\r\n",
        "cross_val_score(gs_tree.best_estimator_, X, y, cv = 5).mean()"
      ],
      "execution_count": 38,
      "outputs": [
        {
          "output_type": "execute_result",
          "data": {
            "text/plain": [
              "0.6215034004145393"
            ]
          },
          "metadata": {
            "tags": []
          },
          "execution_count": 38
        }
      ]
    },
    {
      "cell_type": "code",
      "metadata": {
        "colab": {
          "base_uri": "https://localhost:8080/"
        },
        "id": "uWAkROFVjTFd",
        "outputId": "8701e824-18df-4478-cbd8-c7b4c9c70dcd"
      },
      "source": [
        "# Scoring the test data split\r\n",
        "\r\n",
        "gs_tree.score(X_test, y_test)\r\n",
        "\r\n",
        "# Inference: The decision tree performs a bit better than the logistic regression model"
      ],
      "execution_count": 39,
      "outputs": [
        {
          "output_type": "execute_result",
          "data": {
            "text/plain": [
              "0.6299642782097079"
            ]
          },
          "metadata": {
            "tags": []
          },
          "execution_count": 39
        }
      ]
    },
    {
      "cell_type": "code",
      "metadata": {
        "colab": {
          "base_uri": "https://localhost:8080/"
        },
        "id": "_xo8YxE1jVvq",
        "outputId": "dc9a2e92-25f2-4171-c7de-606915379d1e"
      },
      "source": [
        "# Bagging Classifier Model \r\n",
        "\r\n",
        "# - Setting up a Bagging Classifier Model \r\n",
        "\r\n",
        "pipe = Pipeline(steps = [(\"bag\", BaggingClassifier())])\r\n",
        "\r\n",
        "# - Setting up model parameters \r\n",
        "\r\n",
        "params = {\"bag__n_estimators\": [200]}\r\n",
        "\r\n",
        "gs_bag = GridSearchCV(pipe, param_grid = params, cv = 5, scoring = \"accuracy\")\r\n",
        "\r\n",
        "gs_bag.fit(X_train, y_train)\r\n",
        "gs_bag.best_estimator_"
      ],
      "execution_count": 40,
      "outputs": [
        {
          "output_type": "execute_result",
          "data": {
            "text/plain": [
              "Pipeline(memory=None,\n",
              "         steps=[('bag',\n",
              "                 BaggingClassifier(base_estimator=None, bootstrap=True,\n",
              "                                   bootstrap_features=False, max_features=1.0,\n",
              "                                   max_samples=1.0, n_estimators=200,\n",
              "                                   n_jobs=None, oob_score=False,\n",
              "                                   random_state=None, verbose=0,\n",
              "                                   warm_start=False))],\n",
              "         verbose=False)"
            ]
          },
          "metadata": {
            "tags": []
          },
          "execution_count": 40
        }
      ]
    },
    {
      "cell_type": "code",
      "metadata": {
        "colab": {
          "base_uri": "https://localhost:8080/"
        },
        "id": "rDsYElLEjZ30",
        "outputId": "1ca577fc-a689-41df-d0b4-3227d846d54d"
      },
      "source": [
        "# Scoring the model \r\n",
        "\r\n",
        "gs_bag.score(X_train, y_train)\r\n",
        "\r\n",
        "# Inference: looks overfit "
      ],
      "execution_count": 41,
      "outputs": [
        {
          "output_type": "execute_result",
          "data": {
            "text/plain": [
              "0.8724521958394621"
            ]
          },
          "metadata": {
            "tags": []
          },
          "execution_count": 41
        }
      ]
    },
    {
      "cell_type": "code",
      "metadata": {
        "colab": {
          "base_uri": "https://localhost:8080/"
        },
        "id": "dWf-MHHvjdBF",
        "outputId": "874ce55c-0385-492a-c571-19d9d9526a60"
      },
      "source": [
        "# Cross validation score \r\n",
        "\r\n",
        "cross_val_score(gs_bag.best_estimator_, X, y, cv = 5).mean()"
      ],
      "execution_count": 42,
      "outputs": [
        {
          "output_type": "execute_result",
          "data": {
            "text/plain": [
              "0.5986524988245889"
            ]
          },
          "metadata": {
            "tags": []
          },
          "execution_count": 42
        }
      ]
    },
    {
      "cell_type": "code",
      "metadata": {
        "colab": {
          "base_uri": "https://localhost:8080/"
        },
        "id": "nFuoKoTBjfP8",
        "outputId": "b103128f-152f-419c-b6e6-867d9b2ad195"
      },
      "source": [
        "# Scoring the test data\r\n",
        "\r\n",
        "gs_bag.score(X_test, y_test) \r\n",
        "\r\n",
        "# Inference: although with the best performance on the test data so far, the train set seems overfit "
      ],
      "execution_count": 43,
      "outputs": [
        {
          "output_type": "execute_result",
          "data": {
            "text/plain": [
              "0.6062197940743854"
            ]
          },
          "metadata": {
            "tags": []
          },
          "execution_count": 43
        }
      ]
    },
    {
      "cell_type": "code",
      "metadata": {
        "colab": {
          "base_uri": "https://localhost:8080/"
        },
        "id": "R2fVwDLpjiVZ",
        "outputId": "b4b0f311-525d-410f-8ecb-0160c86ea9b9"
      },
      "source": [
        "# Random Forest Model \r\n",
        "\r\n",
        "# - Setting up the model\r\n",
        "\r\n",
        "pipe = Pipeline(steps = [(\"forest\", RandomForestClassifier())])\r\n",
        "\r\n",
        "# Setting the model parameters \r\n",
        "\r\n",
        "params = {\"forest__n_estimators\": [150], \"forest__max_depth\": [15]}\r\n",
        "\r\n",
        "gs_forest = GridSearchCV(pipe, param_grid = params, cv = 5, scoring = \"accuracy\")\r\n",
        "\r\n",
        "gs_forest.fit(X_train, y_train)\r\n",
        "\r\n",
        "gs_forest.best_estimator_"
      ],
      "execution_count": 44,
      "outputs": [
        {
          "output_type": "execute_result",
          "data": {
            "text/plain": [
              "Pipeline(memory=None,\n",
              "         steps=[('forest',\n",
              "                 RandomForestClassifier(bootstrap=True, ccp_alpha=0.0,\n",
              "                                        class_weight=None, criterion='gini',\n",
              "                                        max_depth=15, max_features='auto',\n",
              "                                        max_leaf_nodes=None, max_samples=None,\n",
              "                                        min_impurity_decrease=0.0,\n",
              "                                        min_impurity_split=None,\n",
              "                                        min_samples_leaf=1, min_samples_split=2,\n",
              "                                        min_weight_fraction_leaf=0.0,\n",
              "                                        n_estimators=150, n_jobs=None,\n",
              "                                        oob_score=False, random_state=None,\n",
              "                                        verbose=0, warm_start=False))],\n",
              "         verbose=False)"
            ]
          },
          "metadata": {
            "tags": []
          },
          "execution_count": 44
        }
      ]
    },
    {
      "cell_type": "code",
      "metadata": {
        "colab": {
          "base_uri": "https://localhost:8080/"
        },
        "id": "dZwuUjq2jnYm",
        "outputId": "479e2ed5-f613-498c-ca43-6528e9e154ad"
      },
      "source": [
        "# Scoring the model \r\n",
        "\r\n",
        "gs_forest.score(X_train, y_train)"
      ],
      "execution_count": 45,
      "outputs": [
        {
          "output_type": "execute_result",
          "data": {
            "text/plain": [
              "0.7510681515724592"
            ]
          },
          "metadata": {
            "tags": []
          },
          "execution_count": 45
        }
      ]
    },
    {
      "cell_type": "code",
      "metadata": {
        "colab": {
          "base_uri": "https://localhost:8080/"
        },
        "id": "W1TMy75Kjpnv",
        "outputId": "0d03d2c6-0f5a-4d83-fe93-ee7debca4aba"
      },
      "source": [
        "# Cross validation scoring \r\n",
        "cross_val_score(gs_forest.best_estimator_, X, y, cv = 5).mean()"
      ],
      "execution_count": 46,
      "outputs": [
        {
          "output_type": "execute_result",
          "data": {
            "text/plain": [
              "0.6458787080632095"
            ]
          },
          "metadata": {
            "tags": []
          },
          "execution_count": 46
        }
      ]
    },
    {
      "cell_type": "code",
      "metadata": {
        "colab": {
          "base_uri": "https://localhost:8080/"
        },
        "id": "qJNppr6ajrp_",
        "outputId": "113726b8-fb6c-4fb2-aa62-52b3accd64f4"
      },
      "source": [
        "# Scoring the test data split\r\n",
        "\r\n",
        "gs_forest.score(X_test, y_test)\r\n",
        "\r\n",
        "# Inference: Random Forest as good as the Bagging Classifier, lets continue up the bias-variance trade off"
      ],
      "execution_count": 47,
      "outputs": [
        {
          "output_type": "execute_result",
          "data": {
            "text/plain": [
              "0.6438327379701618"
            ]
          },
          "metadata": {
            "tags": []
          },
          "execution_count": 47
        }
      ]
    },
    {
      "cell_type": "code",
      "metadata": {
        "colab": {
          "base_uri": "https://localhost:8080/"
        },
        "id": "FnX5SEG0juGp",
        "outputId": "0cc29abf-719f-4631-8a73-af0e20f0cf4a"
      },
      "source": [
        "# Extra Trees Model \r\n",
        "\r\n",
        "# - Setting up the model\r\n",
        "\r\n",
        "pipe = Pipeline(steps = [(\"extra\", ExtraTreesClassifier())])\r\n",
        "\r\n",
        "# Setting up the model parameters \r\n",
        "\r\n",
        "params = {\"extra__n_estimators\": [600], \"extra__max_depth\": [None]}\r\n",
        "\r\n",
        "gs_extra = GridSearchCV(pipe, param_grid = params, cv = 5, scoring = \"accuracy\")\r\n",
        "\r\n",
        "gs_extra.fit(X_train, y_train)\r\n",
        "gs_extra.best_estimator_"
      ],
      "execution_count": 48,
      "outputs": [
        {
          "output_type": "execute_result",
          "data": {
            "text/plain": [
              "Pipeline(memory=None,\n",
              "         steps=[('extra',\n",
              "                 ExtraTreesClassifier(bootstrap=False, ccp_alpha=0.0,\n",
              "                                      class_weight=None, criterion='gini',\n",
              "                                      max_depth=None, max_features='auto',\n",
              "                                      max_leaf_nodes=None, max_samples=None,\n",
              "                                      min_impurity_decrease=0.0,\n",
              "                                      min_impurity_split=None,\n",
              "                                      min_samples_leaf=1, min_samples_split=2,\n",
              "                                      min_weight_fraction_leaf=0.0,\n",
              "                                      n_estimators=600, n_jobs=None,\n",
              "                                      oob_score=False, random_state=None,\n",
              "                                      verbose=0, warm_start=False))],\n",
              "         verbose=False)"
            ]
          },
          "metadata": {
            "tags": []
          },
          "execution_count": 48
        }
      ]
    },
    {
      "cell_type": "code",
      "metadata": {
        "colab": {
          "base_uri": "https://localhost:8080/"
        },
        "id": "evuRZucDjyvW",
        "outputId": "6f6f095e-08a1-46fb-db73-976a3f15b210"
      },
      "source": [
        "# Scoring the model \r\n",
        "\r\n",
        "gs_extra.score(X_train, y_train)"
      ],
      "execution_count": 49,
      "outputs": [
        {
          "output_type": "execute_result",
          "data": {
            "text/plain": [
              "0.8724521958394621"
            ]
          },
          "metadata": {
            "tags": []
          },
          "execution_count": 49
        }
      ]
    },
    {
      "cell_type": "code",
      "metadata": {
        "colab": {
          "base_uri": "https://localhost:8080/"
        },
        "id": "CO6D0kgDj1E_",
        "outputId": "302aa1ea-e8c4-435f-d78b-58541cfa222e"
      },
      "source": [
        "# Cross validation score \r\n",
        "\r\n",
        "cross_val_score(gs_extra.best_estimator_, X, y, cv = 5).mean()"
      ],
      "execution_count": 50,
      "outputs": [
        {
          "output_type": "execute_result",
          "data": {
            "text/plain": [
              "0.5924539575483464"
            ]
          },
          "metadata": {
            "tags": []
          },
          "execution_count": 50
        }
      ]
    },
    {
      "cell_type": "code",
      "metadata": {
        "colab": {
          "base_uri": "https://localhost:8080/"
        },
        "id": "6aVzhuHvj3wU",
        "outputId": "0e515079-fef8-4709-f2a4-dc58cbaaf25a"
      },
      "source": [
        "# Scoring the test data split\r\n",
        "\r\n",
        "gs_extra.score(X_test, y_test)\r\n",
        "\r\n",
        "# Inference: About as strong as the Bagging Classifier, lets try the boosting models next"
      ],
      "execution_count": 51,
      "outputs": [
        {
          "output_type": "execute_result",
          "data": {
            "text/plain": [
              "0.6047488968270646"
            ]
          },
          "metadata": {
            "tags": []
          },
          "execution_count": 51
        }
      ]
    },
    {
      "cell_type": "code",
      "metadata": {
        "colab": {
          "base_uri": "https://localhost:8080/"
        },
        "id": "8JJo_iG6j6nr",
        "outputId": "be2612a2-f1e7-4a09-e083-e7f4f65e9677"
      },
      "source": [
        "# AdaBoost Model \r\n",
        "\r\n",
        "# - Setting up the model \r\n",
        "\r\n",
        "pipe = Pipeline(steps = [(\"ada\", AdaBoostClassifier())])\r\n",
        "\r\n",
        "# - Setting the model parameters \r\n",
        "\r\n",
        "params = {\"ada__n_estimators\": [10]}\r\n",
        "\r\n",
        "gs_ada = GridSearchCV(pipe, param_grid = params, cv = 5, scoring = \"accuracy\")\r\n",
        "\r\n",
        "gs_ada.fit(X_train, y_train)\r\n",
        "gs_ada.best_estimator_"
      ],
      "execution_count": 52,
      "outputs": [
        {
          "output_type": "execute_result",
          "data": {
            "text/plain": [
              "Pipeline(memory=None,\n",
              "         steps=[('ada',\n",
              "                 AdaBoostClassifier(algorithm='SAMME.R', base_estimator=None,\n",
              "                                    learning_rate=1.0, n_estimators=10,\n",
              "                                    random_state=None))],\n",
              "         verbose=False)"
            ]
          },
          "metadata": {
            "tags": []
          },
          "execution_count": 52
        }
      ]
    },
    {
      "cell_type": "code",
      "metadata": {
        "colab": {
          "base_uri": "https://localhost:8080/"
        },
        "id": "pXFbhRFwkQrE",
        "outputId": "9ccf8a17-589c-4003-9154-38e542dcc752"
      },
      "source": [
        "# Scoring the model \r\n",
        "\r\n",
        "gs_ada.score(X_train, y_train)"
      ],
      "execution_count": 53,
      "outputs": [
        {
          "output_type": "execute_result",
          "data": {
            "text/plain": [
              "0.5640540729845206"
            ]
          },
          "metadata": {
            "tags": []
          },
          "execution_count": 53
        }
      ]
    },
    {
      "cell_type": "code",
      "metadata": {
        "colab": {
          "base_uri": "https://localhost:8080/"
        },
        "id": "dY1L6vM5kT3e",
        "outputId": "95085966-449f-4656-ba1a-4c8a282abf23"
      },
      "source": [
        "# Cross validation scoring \r\n",
        "\r\n",
        "cross_val_score(gs_ada.best_estimator_, X, y, cv = 5).mean()"
      ],
      "execution_count": 54,
      "outputs": [
        {
          "output_type": "execute_result",
          "data": {
            "text/plain": [
              "0.5344075928243638"
            ]
          },
          "metadata": {
            "tags": []
          },
          "execution_count": 54
        }
      ]
    },
    {
      "cell_type": "code",
      "metadata": {
        "colab": {
          "base_uri": "https://localhost:8080/"
        },
        "id": "qwLOEte6kV7l",
        "outputId": "815ac8df-6e18-45a4-eb5f-b6738af2be49"
      },
      "source": [
        "# Scoring the test data split \r\n",
        "\r\n",
        "gs_ada.score(X_test, y_test)\r\n",
        "\r\n",
        "# Inference: did not perform as well, even lower than KNN"
      ],
      "execution_count": 55,
      "outputs": [
        {
          "output_type": "execute_result",
          "data": {
            "text/plain": [
              "0.5578903130909855"
            ]
          },
          "metadata": {
            "tags": []
          },
          "execution_count": 55
        }
      ]
    },
    {
      "cell_type": "code",
      "metadata": {
        "colab": {
          "base_uri": "https://localhost:8080/"
        },
        "id": "YYkJfJWakYc5",
        "outputId": "e3b4575e-3843-44f8-b8a2-81188bb7fba2"
      },
      "source": [
        "# Gradient Boost Model \r\n",
        "\r\n",
        "# - Setting up the model \r\n",
        "\r\n",
        "pipe = Pipeline(steps = [(\"grad\", GradientBoostingClassifier())])\r\n",
        "\r\n",
        "# - Setting up the model parameters \r\n",
        "\r\n",
        "params = {\"grad__n_estimators\": [300], \"grad__max_depth\": [3]}\r\n",
        "\r\n",
        "gs_grad = GridSearchCV(pipe, param_grid = params, cv = 5, scoring = \"accuracy\")\r\n",
        "\r\n",
        "gs_grad.fit(X_train, y_train)\r\n",
        "gs_grad.best_estimator_"
      ],
      "execution_count": 56,
      "outputs": [
        {
          "output_type": "execute_result",
          "data": {
            "text/plain": [
              "Pipeline(memory=None,\n",
              "         steps=[('grad',\n",
              "                 GradientBoostingClassifier(ccp_alpha=0.0,\n",
              "                                            criterion='friedman_mse', init=None,\n",
              "                                            learning_rate=0.1, loss='deviance',\n",
              "                                            max_depth=3, max_features=None,\n",
              "                                            max_leaf_nodes=None,\n",
              "                                            min_impurity_decrease=0.0,\n",
              "                                            min_impurity_split=None,\n",
              "                                            min_samples_leaf=1,\n",
              "                                            min_samples_split=2,\n",
              "                                            min_weight_fraction_leaf=0.0,\n",
              "                                            n_estimators=300,\n",
              "                                            n_iter_no_change=None,\n",
              "                                            presort='deprecated',\n",
              "                                            random_state=None, subsample=1.0,\n",
              "                                            tol=0.0001, validation_fraction=0.1,\n",
              "                                            verbose=0, warm_start=False))],\n",
              "         verbose=False)"
            ]
          },
          "metadata": {
            "tags": []
          },
          "execution_count": 56
        }
      ]
    },
    {
      "cell_type": "code",
      "metadata": {
        "colab": {
          "base_uri": "https://localhost:8080/"
        },
        "id": "VwweekqSkbd_",
        "outputId": "3d5c6234-bc42-4ed1-a6cd-ea016efc0de1"
      },
      "source": [
        "# Scoring the model\r\n",
        "\r\n",
        "gs_grad.score(X_train, y_train)"
      ],
      "execution_count": 57,
      "outputs": [
        {
          "output_type": "execute_result",
          "data": {
            "text/plain": [
              "0.7007774742592981"
            ]
          },
          "metadata": {
            "tags": []
          },
          "execution_count": 57
        }
      ]
    },
    {
      "cell_type": "code",
      "metadata": {
        "colab": {
          "base_uri": "https://localhost:8080/"
        },
        "id": "EkqMeaYWkfAB",
        "outputId": "f0d39f9e-cdac-45d0-8132-33a97c773c8a"
      },
      "source": [
        "# Cross validation scoring \r\n",
        "\r\n",
        "cross_val_score(gs_grad.best_estimator_, X, y, cv = 5).mean()"
      ],
      "execution_count": 58,
      "outputs": [
        {
          "output_type": "execute_result",
          "data": {
            "text/plain": [
              "0.6444597578984311"
            ]
          },
          "metadata": {
            "tags": []
          },
          "execution_count": 58
        }
      ]
    },
    {
      "cell_type": "code",
      "metadata": {
        "colab": {
          "base_uri": "https://localhost:8080/"
        },
        "id": "-PzBCIPukh39",
        "outputId": "1636400b-5db1-4058-9d48-ce30fc4a0d55"
      },
      "source": [
        "# Scoring the test data split\r\n",
        "\r\n",
        "gs_grad.score(X_test, y_test)\r\n",
        "\r\n",
        "# Inference: Best model so far, but lets try SVM"
      ],
      "execution_count": 59,
      "outputs": [
        {
          "output_type": "execute_result",
          "data": {
            "text/plain": [
              "0.6486656860685018"
            ]
          },
          "metadata": {
            "tags": []
          },
          "execution_count": 59
        }
      ]
    },
    {
      "cell_type": "code",
      "metadata": {
        "colab": {
          "base_uri": "https://localhost:8080/"
        },
        "id": "LUUEBsWskkKc",
        "outputId": "16f41698-aa8e-40fc-a96e-182c96ae9efa"
      },
      "source": [
        "# SVC Model \r\n",
        "\r\n",
        "# - Setting up the model \r\n",
        "\r\n",
        "pipe = Pipeline(steps = [(\"svc\", SVC())])\r\n",
        "\r\n",
        "# - Setting the model parameters \r\n",
        "\r\n",
        "params = {\"svc__C\": [3]}\r\n",
        "\r\n",
        "gs_svc = GridSearchCV(pipe, param_grid = params, cv = 5, scoring = \"accuracy\")\r\n",
        "\r\n",
        "gs_svc.fit(X_train, y_train)\r\n",
        "\r\n",
        "gs_svc.best_estimator_"
      ],
      "execution_count": 60,
      "outputs": [
        {
          "output_type": "execute_result",
          "data": {
            "text/plain": [
              "Pipeline(memory=None,\n",
              "         steps=[('svc',\n",
              "                 SVC(C=3, break_ties=False, cache_size=200, class_weight=None,\n",
              "                     coef0=0.0, decision_function_shape='ovr', degree=3,\n",
              "                     gamma='scale', kernel='rbf', max_iter=-1,\n",
              "                     probability=False, random_state=None, shrinking=True,\n",
              "                     tol=0.001, verbose=False))],\n",
              "         verbose=False)"
            ]
          },
          "metadata": {
            "tags": []
          },
          "execution_count": 60
        }
      ]
    },
    {
      "cell_type": "code",
      "metadata": {
        "colab": {
          "base_uri": "https://localhost:8080/"
        },
        "id": "OjW3oW1hkqp3",
        "outputId": "7b1e79b4-3420-4ace-b425-7e02c61d8c30"
      },
      "source": [
        "# Scoring the model \r\n",
        "\r\n",
        "gs_svc.score(X_train, y_train)"
      ],
      "execution_count": 61,
      "outputs": [
        {
          "output_type": "execute_result",
          "data": {
            "text/plain": [
              "0.5585907403516145"
            ]
          },
          "metadata": {
            "tags": []
          },
          "execution_count": 61
        }
      ]
    },
    {
      "cell_type": "code",
      "metadata": {
        "colab": {
          "base_uri": "https://localhost:8080/"
        },
        "id": "txXtwCWlks0k",
        "outputId": "0a2d1ebb-0a40-4b1e-8f78-a3da7f57beb2"
      },
      "source": [
        "# Cross validation scoring \r\n",
        "\r\n",
        "cross_val_score(gs_svc.best_estimator_, X, y, cv = 5).mean()"
      ],
      "execution_count": 62,
      "outputs": [
        {
          "output_type": "execute_result",
          "data": {
            "text/plain": [
              "0.5688668099233389"
            ]
          },
          "metadata": {
            "tags": []
          },
          "execution_count": 62
        }
      ]
    },
    {
      "cell_type": "code",
      "metadata": {
        "colab": {
          "base_uri": "https://localhost:8080/"
        },
        "id": "9FbPzGlZkvfI",
        "outputId": "2811cfcd-ea2e-44e1-bd05-fa6a9564a5c9"
      },
      "source": [
        "# Scoring the test data split \r\n",
        "\r\n",
        "gs_svc.score(X_test, y_test)\r\n",
        "\r\n",
        "# Inference: the added dimensionality did not help much, this is the poorest performing model yet."
      ],
      "execution_count": 63,
      "outputs": [
        {
          "output_type": "execute_result",
          "data": {
            "text/plain": [
              "0.5543181340617777"
            ]
          },
          "metadata": {
            "tags": []
          },
          "execution_count": 63
        }
      ]
    },
    {
      "cell_type": "code",
      "metadata": {
        "colab": {
          "base_uri": "https://localhost:8080/"
        },
        "id": "ZTNPTgSbkxtz",
        "outputId": "d6bd327d-7d0c-421a-c07d-92ea65eb5584"
      },
      "source": [
        "# Voting Classifier Model\r\n",
        "\r\n",
        "# - Setting up the model \r\n",
        "\r\n",
        "knn_pipe = Pipeline([(\"ss\", StandardScaler()), (\"knn\", KNeighborsClassifier())])\r\n",
        "\r\n",
        "# = Setting up the Voting Classifier Model  with multiple models inside\r\n",
        "\r\n",
        "vote = VotingClassifier([(\"rand\", RandomForestClassifier()), \r\n",
        "                         (\"grad\", GradientBoostingClassifier()), \r\n",
        "                         (\"lr\", LogisticRegression()), \r\n",
        "                         (\"tree\", DecisionTreeClassifier()), \r\n",
        "                         (\"bag\", BaggingClassifier()), \r\n",
        "                         (\"ada\", AdaBoostClassifier()), \r\n",
        "                         (\"extra\", ExtraTreesClassifier()), \r\n",
        "                         (\"knn_pipe\", knn_pipe)], voting = \"soft\")\r\n",
        "\r\n",
        "# Setting up the model parameters for each model in the voting classifier \r\n",
        "\r\n",
        "vote_params = {\"rand__n_estimators\": [150], \r\n",
        "               \"rand__max_depth\": [15], \r\n",
        "               \"grad__n_estimators\": [300], \r\n",
        "               \"tree__max_depth\": [8], \r\n",
        "               \"bag__n_estimators\": [200], \r\n",
        "               \"ada__n_estimators\": [10], \r\n",
        "               \"extra__n_estimators\": [600], \r\n",
        "               \"knn_pipe__knn__n_neighbors\": [21],\r\n",
        "               \"lr__penalty\": [\"l1\"], \r\n",
        "               \"lr__C\": [1], \r\n",
        "               \"lr__solver\": [\"liblinear\"]}\r\n",
        "\r\n",
        "gs_vc = GridSearchCV(vote, param_grid = vote_params, cv = 5, scoring = \"accuracy\")\r\n",
        "\r\n",
        "gs_vc.fit(X_train, y_train)\r\n",
        "\r\n",
        "gs_vc.best_estimator_"
      ],
      "execution_count": 64,
      "outputs": [
        {
          "output_type": "execute_result",
          "data": {
            "text/plain": [
              "VotingClassifier(estimators=[('rand',\n",
              "                              RandomForestClassifier(bootstrap=True,\n",
              "                                                     ccp_alpha=0.0,\n",
              "                                                     class_weight=None,\n",
              "                                                     criterion='gini',\n",
              "                                                     max_depth=15,\n",
              "                                                     max_features='auto',\n",
              "                                                     max_leaf_nodes=None,\n",
              "                                                     max_samples=None,\n",
              "                                                     min_impurity_decrease=0.0,\n",
              "                                                     min_impurity_split=None,\n",
              "                                                     min_samples_leaf=1,\n",
              "                                                     min_samples_split=2,\n",
              "                                                     min_weight_fraction_leaf=0.0,\n",
              "                                                     n_estimators=150,\n",
              "                                                     n_jobs=None,\n",
              "                                                     oob_score...\n",
              "                                                   random_state=None, verbose=0,\n",
              "                                                   warm_start=False)),\n",
              "                             ('knn_pipe',\n",
              "                              Pipeline(memory=None,\n",
              "                                       steps=[('ss',\n",
              "                                               StandardScaler(copy=True,\n",
              "                                                              with_mean=True,\n",
              "                                                              with_std=True)),\n",
              "                                              ('knn',\n",
              "                                               KNeighborsClassifier(algorithm='auto',\n",
              "                                                                    leaf_size=30,\n",
              "                                                                    metric='minkowski',\n",
              "                                                                    metric_params=None,\n",
              "                                                                    n_jobs=None,\n",
              "                                                                    n_neighbors=21,\n",
              "                                                                    p=2,\n",
              "                                                                    weights='uniform'))],\n",
              "                                       verbose=False))],\n",
              "                 flatten_transform=True, n_jobs=None, voting='soft',\n",
              "                 weights=None)"
            ]
          },
          "metadata": {
            "tags": []
          },
          "execution_count": 64
        }
      ]
    },
    {
      "cell_type": "code",
      "metadata": {
        "colab": {
          "base_uri": "https://localhost:8080/"
        },
        "id": "GPgAZGrIk0lU",
        "outputId": "538ba52d-54e5-4594-9d94-adbf69b88c14"
      },
      "source": [
        "# Scoring the model \r\n",
        "\r\n",
        "gs_vc.score(X_train, y_train)"
      ],
      "execution_count": 65,
      "outputs": [
        {
          "output_type": "execute_result",
          "data": {
            "text/plain": [
              "0.8120753659732437"
            ]
          },
          "metadata": {
            "tags": []
          },
          "execution_count": 65
        }
      ]
    },
    {
      "cell_type": "code",
      "metadata": {
        "colab": {
          "base_uri": "https://localhost:8080/"
        },
        "id": "TCrwmnnrk3Ss",
        "outputId": "70b1e9ae-4521-4b74-d80d-b1bd3b1ba823"
      },
      "source": [
        "# Cross validation scoring \r\n",
        "\r\n",
        "cross_val_score(gs_vc.best_estimator_, X, y, cv = 5).mean()"
      ],
      "execution_count": 66,
      "outputs": [
        {
          "output_type": "execute_result",
          "data": {
            "text/plain": [
              "0.6426741677758574"
            ]
          },
          "metadata": {
            "tags": []
          },
          "execution_count": 66
        }
      ]
    },
    {
      "cell_type": "code",
      "metadata": {
        "colab": {
          "base_uri": "https://localhost:8080/"
        },
        "id": "T3fRhKb_k5a-",
        "outputId": "abba54cb-0343-4210-d83a-b07a461c7109"
      },
      "source": [
        "# Scoring the test data split\r\n",
        "\r\n",
        "gs_vc.score(X_test, y_test)\r\n",
        "\r\n",
        "\r\n",
        "# Model Selection\r\n",
        "# inference: the voting classifier performed best of all the models tested but they are hard to evaluate because they are ensemble models. \r\n",
        "# So while we will use the voting classifier to predict the complexity of the game, we'll evaluate the Logistic Regression model as it is only a few points of the voting classifier"
      ],
      "execution_count": 67,
      "outputs": [
        {
          "output_type": "execute_result",
          "data": {
            "text/plain": [
              "0.6469846606429922"
            ]
          },
          "metadata": {
            "tags": []
          },
          "execution_count": 67
        }
      ]
    },
    {
      "cell_type": "code",
      "metadata": {
        "id": "JyXkR9zck8Dg"
      },
      "source": [
        "# Pickling \r\n",
        "\r\n",
        "with open(\"prod_model.pkl\", \"wb\") as f_out:\r\n",
        "  pickle.dump(gs_grad, f_out)\r\n",
        "  f_out.close()"
      ],
      "execution_count": 69,
      "outputs": []
    },
    {
      "cell_type": "code",
      "metadata": {
        "id": "Qn1pWiAVlDTX"
      },
      "source": [
        ""
      ],
      "execution_count": null,
      "outputs": []
    }
  ]
}